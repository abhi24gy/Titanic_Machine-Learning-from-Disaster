{
 "cells": [
  {
   "cell_type": "code",
   "execution_count": 1,
   "id": "organic-holmes",
   "metadata": {
    "execution": {
     "iopub.execute_input": "2021-07-05T10:42:43.887212Z",
     "iopub.status.busy": "2021-07-05T10:42:43.886618Z",
     "iopub.status.idle": "2021-07-05T10:42:44.821081Z",
     "shell.execute_reply": "2021-07-05T10:42:44.820355Z",
     "shell.execute_reply.started": "2021-07-04T10:24:40.46972Z"
    },
    "papermill": {
     "duration": 0.981557,
     "end_time": "2021-07-05T10:42:44.821254",
     "exception": false,
     "start_time": "2021-07-05T10:42:43.839697",
     "status": "completed"
    },
    "tags": []
   },
   "outputs": [],
   "source": [
    "import numpy as np\n",
    "import pandas as pd\n",
    "import matplotlib.pyplot as plt\n",
    "import seaborn as sns\n",
    "import sklearn\n",
    "%matplotlib inline"
   ]
  },
  {
   "cell_type": "markdown",
   "id": "suffering-aerospace",
   "metadata": {
    "papermill": {
     "duration": 0.035572,
     "end_time": "2021-07-05T10:42:44.892919",
     "exception": false,
     "start_time": "2021-07-05T10:42:44.857347",
     "status": "completed"
    },
    "tags": []
   },
   "source": [
    "### Read training dataset"
   ]
  },
  {
   "cell_type": "code",
   "execution_count": 2,
   "id": "floating-northeast",
   "metadata": {
    "execution": {
     "iopub.execute_input": "2021-07-05T10:42:44.977635Z",
     "iopub.status.busy": "2021-07-05T10:42:44.977008Z",
     "iopub.status.idle": "2021-07-05T10:42:44.998389Z",
     "shell.execute_reply": "2021-07-05T10:42:44.999091Z",
     "shell.execute_reply.started": "2021-07-04T10:24:40.476634Z"
    },
    "papermill": {
     "duration": 0.062446,
     "end_time": "2021-07-05T10:42:44.999292",
     "exception": false,
     "start_time": "2021-07-05T10:42:44.936846",
     "status": "completed"
    },
    "tags": []
   },
   "outputs": [],
   "source": [
    "train = pd.read_csv('../input/titanic/train.csv')"
   ]
  },
  {
   "cell_type": "code",
   "execution_count": 3,
   "id": "central-drain",
   "metadata": {
    "execution": {
     "iopub.execute_input": "2021-07-05T10:42:45.089847Z",
     "iopub.status.busy": "2021-07-05T10:42:45.088952Z",
     "iopub.status.idle": "2021-07-05T10:42:45.113317Z",
     "shell.execute_reply": "2021-07-05T10:42:45.113763Z",
     "shell.execute_reply.started": "2021-07-04T10:24:40.49898Z"
    },
    "papermill": {
     "duration": 0.073216,
     "end_time": "2021-07-05T10:42:45.113922",
     "exception": false,
     "start_time": "2021-07-05T10:42:45.040706",
     "status": "completed"
    },
    "tags": []
   },
   "outputs": [
    {
     "data": {
      "text/html": [
       "<div>\n",
       "<style scoped>\n",
       "    .dataframe tbody tr th:only-of-type {\n",
       "        vertical-align: middle;\n",
       "    }\n",
       "\n",
       "    .dataframe tbody tr th {\n",
       "        vertical-align: top;\n",
       "    }\n",
       "\n",
       "    .dataframe thead th {\n",
       "        text-align: right;\n",
       "    }\n",
       "</style>\n",
       "<table border=\"1\" class=\"dataframe\">\n",
       "  <thead>\n",
       "    <tr style=\"text-align: right;\">\n",
       "      <th></th>\n",
       "      <th>PassengerId</th>\n",
       "      <th>Survived</th>\n",
       "      <th>Pclass</th>\n",
       "      <th>Name</th>\n",
       "      <th>Sex</th>\n",
       "      <th>Age</th>\n",
       "      <th>SibSp</th>\n",
       "      <th>Parch</th>\n",
       "      <th>Ticket</th>\n",
       "      <th>Fare</th>\n",
       "      <th>Cabin</th>\n",
       "      <th>Embarked</th>\n",
       "    </tr>\n",
       "  </thead>\n",
       "  <tbody>\n",
       "    <tr>\n",
       "      <th>0</th>\n",
       "      <td>1</td>\n",
       "      <td>0</td>\n",
       "      <td>3</td>\n",
       "      <td>Braund, Mr. Owen Harris</td>\n",
       "      <td>male</td>\n",
       "      <td>22.0</td>\n",
       "      <td>1</td>\n",
       "      <td>0</td>\n",
       "      <td>A/5 21171</td>\n",
       "      <td>7.2500</td>\n",
       "      <td>NaN</td>\n",
       "      <td>S</td>\n",
       "    </tr>\n",
       "    <tr>\n",
       "      <th>1</th>\n",
       "      <td>2</td>\n",
       "      <td>1</td>\n",
       "      <td>1</td>\n",
       "      <td>Cumings, Mrs. John Bradley (Florence Briggs Th...</td>\n",
       "      <td>female</td>\n",
       "      <td>38.0</td>\n",
       "      <td>1</td>\n",
       "      <td>0</td>\n",
       "      <td>PC 17599</td>\n",
       "      <td>71.2833</td>\n",
       "      <td>C85</td>\n",
       "      <td>C</td>\n",
       "    </tr>\n",
       "    <tr>\n",
       "      <th>2</th>\n",
       "      <td>3</td>\n",
       "      <td>1</td>\n",
       "      <td>3</td>\n",
       "      <td>Heikkinen, Miss. Laina</td>\n",
       "      <td>female</td>\n",
       "      <td>26.0</td>\n",
       "      <td>0</td>\n",
       "      <td>0</td>\n",
       "      <td>STON/O2. 3101282</td>\n",
       "      <td>7.9250</td>\n",
       "      <td>NaN</td>\n",
       "      <td>S</td>\n",
       "    </tr>\n",
       "    <tr>\n",
       "      <th>3</th>\n",
       "      <td>4</td>\n",
       "      <td>1</td>\n",
       "      <td>1</td>\n",
       "      <td>Futrelle, Mrs. Jacques Heath (Lily May Peel)</td>\n",
       "      <td>female</td>\n",
       "      <td>35.0</td>\n",
       "      <td>1</td>\n",
       "      <td>0</td>\n",
       "      <td>113803</td>\n",
       "      <td>53.1000</td>\n",
       "      <td>C123</td>\n",
       "      <td>S</td>\n",
       "    </tr>\n",
       "    <tr>\n",
       "      <th>4</th>\n",
       "      <td>5</td>\n",
       "      <td>0</td>\n",
       "      <td>3</td>\n",
       "      <td>Allen, Mr. William Henry</td>\n",
       "      <td>male</td>\n",
       "      <td>35.0</td>\n",
       "      <td>0</td>\n",
       "      <td>0</td>\n",
       "      <td>373450</td>\n",
       "      <td>8.0500</td>\n",
       "      <td>NaN</td>\n",
       "      <td>S</td>\n",
       "    </tr>\n",
       "  </tbody>\n",
       "</table>\n",
       "</div>"
      ],
      "text/plain": [
       "   PassengerId  Survived  Pclass  \\\n",
       "0            1         0       3   \n",
       "1            2         1       1   \n",
       "2            3         1       3   \n",
       "3            4         1       1   \n",
       "4            5         0       3   \n",
       "\n",
       "                                                Name     Sex   Age  SibSp  \\\n",
       "0                            Braund, Mr. Owen Harris    male  22.0      1   \n",
       "1  Cumings, Mrs. John Bradley (Florence Briggs Th...  female  38.0      1   \n",
       "2                             Heikkinen, Miss. Laina  female  26.0      0   \n",
       "3       Futrelle, Mrs. Jacques Heath (Lily May Peel)  female  35.0      1   \n",
       "4                           Allen, Mr. William Henry    male  35.0      0   \n",
       "\n",
       "   Parch            Ticket     Fare Cabin Embarked  \n",
       "0      0         A/5 21171   7.2500   NaN        S  \n",
       "1      0          PC 17599  71.2833   C85        C  \n",
       "2      0  STON/O2. 3101282   7.9250   NaN        S  \n",
       "3      0            113803  53.1000  C123        S  \n",
       "4      0            373450   8.0500   NaN        S  "
      ]
     },
     "execution_count": 3,
     "metadata": {},
     "output_type": "execute_result"
    }
   ],
   "source": [
    "train.head()"
   ]
  },
  {
   "cell_type": "code",
   "execution_count": 4,
   "id": "tough-triple",
   "metadata": {
    "execution": {
     "iopub.execute_input": "2021-07-05T10:42:45.192978Z",
     "iopub.status.busy": "2021-07-05T10:42:45.192101Z",
     "iopub.status.idle": "2021-07-05T10:42:45.198409Z",
     "shell.execute_reply": "2021-07-05T10:42:45.197697Z",
     "shell.execute_reply.started": "2021-07-04T10:24:40.51744Z"
    },
    "papermill": {
     "duration": 0.045617,
     "end_time": "2021-07-05T10:42:45.198608",
     "exception": false,
     "start_time": "2021-07-05T10:42:45.152991",
     "status": "completed"
    },
    "tags": []
   },
   "outputs": [
    {
     "data": {
      "text/plain": [
       "(891, 12)"
      ]
     },
     "execution_count": 4,
     "metadata": {},
     "output_type": "execute_result"
    }
   ],
   "source": [
    "train.shape"
   ]
  },
  {
   "cell_type": "code",
   "execution_count": 5,
   "id": "cosmetic-angola",
   "metadata": {
    "execution": {
     "iopub.execute_input": "2021-07-05T10:42:45.285241Z",
     "iopub.status.busy": "2021-07-05T10:42:45.284632Z",
     "iopub.status.idle": "2021-07-05T10:42:45.290057Z",
     "shell.execute_reply": "2021-07-05T10:42:45.290662Z",
     "shell.execute_reply.started": "2021-07-04T10:24:40.527565Z"
    },
    "papermill": {
     "duration": 0.048883,
     "end_time": "2021-07-05T10:42:45.290901",
     "exception": false,
     "start_time": "2021-07-05T10:42:45.242018",
     "status": "completed"
    },
    "tags": []
   },
   "outputs": [
    {
     "data": {
      "text/plain": [
       "Index(['PassengerId', 'Survived', 'Pclass', 'Name', 'Sex', 'Age', 'SibSp',\n",
       "       'Parch', 'Ticket', 'Fare', 'Cabin', 'Embarked'],\n",
       "      dtype='object')"
      ]
     },
     "execution_count": 5,
     "metadata": {},
     "output_type": "execute_result"
    }
   ],
   "source": [
    "train.columns"
   ]
  },
  {
   "cell_type": "code",
   "execution_count": 6,
   "id": "considerable-essence",
   "metadata": {
    "execution": {
     "iopub.execute_input": "2021-07-05T10:42:45.368771Z",
     "iopub.status.busy": "2021-07-05T10:42:45.368185Z",
     "iopub.status.idle": "2021-07-05T10:42:45.387613Z",
     "shell.execute_reply": "2021-07-05T10:42:45.386960Z",
     "shell.execute_reply.started": "2021-07-04T10:24:40.537914Z"
    },
    "papermill": {
     "duration": 0.059103,
     "end_time": "2021-07-05T10:42:45.387775",
     "exception": false,
     "start_time": "2021-07-05T10:42:45.328672",
     "status": "completed"
    },
    "tags": []
   },
   "outputs": [
    {
     "name": "stdout",
     "output_type": "stream",
     "text": [
      "<class 'pandas.core.frame.DataFrame'>\n",
      "RangeIndex: 891 entries, 0 to 890\n",
      "Data columns (total 12 columns):\n",
      " #   Column       Non-Null Count  Dtype  \n",
      "---  ------       --------------  -----  \n",
      " 0   PassengerId  891 non-null    int64  \n",
      " 1   Survived     891 non-null    int64  \n",
      " 2   Pclass       891 non-null    int64  \n",
      " 3   Name         891 non-null    object \n",
      " 4   Sex          891 non-null    object \n",
      " 5   Age          714 non-null    float64\n",
      " 6   SibSp        891 non-null    int64  \n",
      " 7   Parch        891 non-null    int64  \n",
      " 8   Ticket       891 non-null    object \n",
      " 9   Fare         891 non-null    float64\n",
      " 10  Cabin        204 non-null    object \n",
      " 11  Embarked     889 non-null    object \n",
      "dtypes: float64(2), int64(5), object(5)\n",
      "memory usage: 83.7+ KB\n"
     ]
    }
   ],
   "source": [
    "train.info()"
   ]
  },
  {
   "cell_type": "markdown",
   "id": "equal-divide",
   "metadata": {
    "papermill": {
     "duration": 0.036913,
     "end_time": "2021-07-05T10:42:45.463213",
     "exception": false,
     "start_time": "2021-07-05T10:42:45.426300",
     "status": "completed"
    },
    "tags": []
   },
   "source": [
    "### Read Testing Dataset"
   ]
  },
  {
   "cell_type": "code",
   "execution_count": 7,
   "id": "acoustic-lyric",
   "metadata": {
    "execution": {
     "iopub.execute_input": "2021-07-05T10:42:45.543431Z",
     "iopub.status.busy": "2021-07-05T10:42:45.542591Z",
     "iopub.status.idle": "2021-07-05T10:42:45.557188Z",
     "shell.execute_reply": "2021-07-05T10:42:45.556716Z",
     "shell.execute_reply.started": "2021-07-04T10:24:40.558362Z"
    },
    "papermill": {
     "duration": 0.056777,
     "end_time": "2021-07-05T10:42:45.557343",
     "exception": false,
     "start_time": "2021-07-05T10:42:45.500566",
     "status": "completed"
    },
    "tags": []
   },
   "outputs": [],
   "source": [
    "test = pd.read_csv('../input/titanic/test.csv')"
   ]
  },
  {
   "cell_type": "code",
   "execution_count": 8,
   "id": "beginning-louisiana",
   "metadata": {
    "execution": {
     "iopub.execute_input": "2021-07-05T10:42:45.648527Z",
     "iopub.status.busy": "2021-07-05T10:42:45.647701Z",
     "iopub.status.idle": "2021-07-05T10:42:45.651760Z",
     "shell.execute_reply": "2021-07-05T10:42:45.651230Z",
     "shell.execute_reply.started": "2021-07-04T10:24:40.569232Z"
    },
    "papermill": {
     "duration": 0.054882,
     "end_time": "2021-07-05T10:42:45.651885",
     "exception": false,
     "start_time": "2021-07-05T10:42:45.597003",
     "status": "completed"
    },
    "tags": []
   },
   "outputs": [
    {
     "data": {
      "text/html": [
       "<div>\n",
       "<style scoped>\n",
       "    .dataframe tbody tr th:only-of-type {\n",
       "        vertical-align: middle;\n",
       "    }\n",
       "\n",
       "    .dataframe tbody tr th {\n",
       "        vertical-align: top;\n",
       "    }\n",
       "\n",
       "    .dataframe thead th {\n",
       "        text-align: right;\n",
       "    }\n",
       "</style>\n",
       "<table border=\"1\" class=\"dataframe\">\n",
       "  <thead>\n",
       "    <tr style=\"text-align: right;\">\n",
       "      <th></th>\n",
       "      <th>PassengerId</th>\n",
       "      <th>Pclass</th>\n",
       "      <th>Name</th>\n",
       "      <th>Sex</th>\n",
       "      <th>Age</th>\n",
       "      <th>SibSp</th>\n",
       "      <th>Parch</th>\n",
       "      <th>Ticket</th>\n",
       "      <th>Fare</th>\n",
       "      <th>Cabin</th>\n",
       "      <th>Embarked</th>\n",
       "    </tr>\n",
       "  </thead>\n",
       "  <tbody>\n",
       "    <tr>\n",
       "      <th>0</th>\n",
       "      <td>892</td>\n",
       "      <td>3</td>\n",
       "      <td>Kelly, Mr. James</td>\n",
       "      <td>male</td>\n",
       "      <td>34.5</td>\n",
       "      <td>0</td>\n",
       "      <td>0</td>\n",
       "      <td>330911</td>\n",
       "      <td>7.8292</td>\n",
       "      <td>NaN</td>\n",
       "      <td>Q</td>\n",
       "    </tr>\n",
       "    <tr>\n",
       "      <th>1</th>\n",
       "      <td>893</td>\n",
       "      <td>3</td>\n",
       "      <td>Wilkes, Mrs. James (Ellen Needs)</td>\n",
       "      <td>female</td>\n",
       "      <td>47.0</td>\n",
       "      <td>1</td>\n",
       "      <td>0</td>\n",
       "      <td>363272</td>\n",
       "      <td>7.0000</td>\n",
       "      <td>NaN</td>\n",
       "      <td>S</td>\n",
       "    </tr>\n",
       "    <tr>\n",
       "      <th>2</th>\n",
       "      <td>894</td>\n",
       "      <td>2</td>\n",
       "      <td>Myles, Mr. Thomas Francis</td>\n",
       "      <td>male</td>\n",
       "      <td>62.0</td>\n",
       "      <td>0</td>\n",
       "      <td>0</td>\n",
       "      <td>240276</td>\n",
       "      <td>9.6875</td>\n",
       "      <td>NaN</td>\n",
       "      <td>Q</td>\n",
       "    </tr>\n",
       "    <tr>\n",
       "      <th>3</th>\n",
       "      <td>895</td>\n",
       "      <td>3</td>\n",
       "      <td>Wirz, Mr. Albert</td>\n",
       "      <td>male</td>\n",
       "      <td>27.0</td>\n",
       "      <td>0</td>\n",
       "      <td>0</td>\n",
       "      <td>315154</td>\n",
       "      <td>8.6625</td>\n",
       "      <td>NaN</td>\n",
       "      <td>S</td>\n",
       "    </tr>\n",
       "    <tr>\n",
       "      <th>4</th>\n",
       "      <td>896</td>\n",
       "      <td>3</td>\n",
       "      <td>Hirvonen, Mrs. Alexander (Helga E Lindqvist)</td>\n",
       "      <td>female</td>\n",
       "      <td>22.0</td>\n",
       "      <td>1</td>\n",
       "      <td>1</td>\n",
       "      <td>3101298</td>\n",
       "      <td>12.2875</td>\n",
       "      <td>NaN</td>\n",
       "      <td>S</td>\n",
       "    </tr>\n",
       "  </tbody>\n",
       "</table>\n",
       "</div>"
      ],
      "text/plain": [
       "   PassengerId  Pclass                                          Name     Sex  \\\n",
       "0          892       3                              Kelly, Mr. James    male   \n",
       "1          893       3              Wilkes, Mrs. James (Ellen Needs)  female   \n",
       "2          894       2                     Myles, Mr. Thomas Francis    male   \n",
       "3          895       3                              Wirz, Mr. Albert    male   \n",
       "4          896       3  Hirvonen, Mrs. Alexander (Helga E Lindqvist)  female   \n",
       "\n",
       "    Age  SibSp  Parch   Ticket     Fare Cabin Embarked  \n",
       "0  34.5      0      0   330911   7.8292   NaN        Q  \n",
       "1  47.0      1      0   363272   7.0000   NaN        S  \n",
       "2  62.0      0      0   240276   9.6875   NaN        Q  \n",
       "3  27.0      0      0   315154   8.6625   NaN        S  \n",
       "4  22.0      1      1  3101298  12.2875   NaN        S  "
      ]
     },
     "execution_count": 8,
     "metadata": {},
     "output_type": "execute_result"
    }
   ],
   "source": [
    "test.head()"
   ]
  },
  {
   "cell_type": "code",
   "execution_count": 9,
   "id": "german-single",
   "metadata": {
    "execution": {
     "iopub.execute_input": "2021-07-05T10:42:45.732313Z",
     "iopub.status.busy": "2021-07-05T10:42:45.731706Z",
     "iopub.status.idle": "2021-07-05T10:42:45.734171Z",
     "shell.execute_reply": "2021-07-05T10:42:45.734600Z",
     "shell.execute_reply.started": "2021-07-04T10:24:40.586849Z"
    },
    "papermill": {
     "duration": 0.044851,
     "end_time": "2021-07-05T10:42:45.734754",
     "exception": false,
     "start_time": "2021-07-05T10:42:45.689903",
     "status": "completed"
    },
    "tags": []
   },
   "outputs": [
    {
     "data": {
      "text/plain": [
       "(418, 11)"
      ]
     },
     "execution_count": 9,
     "metadata": {},
     "output_type": "execute_result"
    }
   ],
   "source": [
    "test.shape"
   ]
  },
  {
   "cell_type": "markdown",
   "id": "therapeutic-executive",
   "metadata": {
    "papermill": {
     "duration": 0.038362,
     "end_time": "2021-07-05T10:42:45.810877",
     "exception": false,
     "start_time": "2021-07-05T10:42:45.772515",
     "status": "completed"
    },
    "tags": []
   },
   "source": [
    "### Missing Data"
   ]
  },
  {
   "cell_type": "code",
   "execution_count": 10,
   "id": "refined-module",
   "metadata": {
    "execution": {
     "iopub.execute_input": "2021-07-05T10:42:45.890033Z",
     "iopub.status.busy": "2021-07-05T10:42:45.889452Z",
     "iopub.status.idle": "2021-07-05T10:42:46.077031Z",
     "shell.execute_reply": "2021-07-05T10:42:46.076528Z",
     "shell.execute_reply.started": "2021-07-04T10:24:40.593122Z"
    },
    "papermill": {
     "duration": 0.228111,
     "end_time": "2021-07-05T10:42:46.077186",
     "exception": false,
     "start_time": "2021-07-05T10:42:45.849075",
     "status": "completed"
    },
    "tags": []
   },
   "outputs": [
    {
     "data": {
      "text/plain": [
       "<AxesSubplot:>"
      ]
     },
     "execution_count": 10,
     "metadata": {},
     "output_type": "execute_result"
    },
    {
     "data": {
      "image/png": "[encoded data removed]",
      "text/plain": [
       "<Figure size 432x288 with 1 Axes>"
      ]
     },
     "metadata": {
      "needs_background": "light"
     },
     "output_type": "display_data"
    }
   ],
   "source": [
    "sns.heatmap(train.isnull(), yticklabels = False, cbar = False, cmap = 'viridis')"
   ]
  },
  {
   "cell_type": "code",
   "execution_count": 11,
   "id": "incoming-legislation",
   "metadata": {
    "execution": {
     "iopub.execute_input": "2021-07-05T10:42:46.162519Z",
     "iopub.status.busy": "2021-07-05T10:42:46.161924Z",
     "iopub.status.idle": "2021-07-05T10:42:46.164482Z",
     "shell.execute_reply": "2021-07-05T10:42:46.165033Z",
     "shell.execute_reply.started": "2021-07-04T10:24:40.782681Z"
    },
    "papermill": {
     "duration": 0.048967,
     "end_time": "2021-07-05T10:42:46.165219",
     "exception": false,
     "start_time": "2021-07-05T10:42:46.116252",
     "status": "completed"
    },
    "tags": []
   },
   "outputs": [
    {
     "data": {
      "text/plain": [
       "PassengerId      0\n",
       "Survived         0\n",
       "Pclass           0\n",
       "Name             0\n",
       "Sex              0\n",
       "Age            177\n",
       "SibSp            0\n",
       "Parch            0\n",
       "Ticket           0\n",
       "Fare             0\n",
       "Cabin          687\n",
       "Embarked         2\n",
       "dtype: int64"
      ]
     },
     "execution_count": 11,
     "metadata": {},
     "output_type": "execute_result"
    }
   ],
   "source": [
    "train.isna().sum()"
   ]
  },
  {
   "cell_type": "code",
   "execution_count": 12,
   "id": "amber-tyler",
   "metadata": {
    "execution": {
     "iopub.execute_input": "2021-07-05T10:42:46.246465Z",
     "iopub.status.busy": "2021-07-05T10:42:46.245848Z",
     "iopub.status.idle": "2021-07-05T10:42:46.311508Z",
     "shell.execute_reply": "2021-07-05T10:42:46.310882Z",
     "shell.execute_reply.started": "2021-07-04T10:24:40.791752Z"
    },
    "papermill": {
     "duration": 0.107183,
     "end_time": "2021-07-05T10:42:46.311647",
     "exception": false,
     "start_time": "2021-07-05T10:42:46.204464",
     "status": "completed"
    },
    "tags": []
   },
   "outputs": [
    {
     "data": {
      "text/html": [
       "<style  type=\"text/css\" >\n",
       "#T_b4624_row0_col1,#T_b4624_row0_col5{\n",
       "            background-color:  #67000d;\n",
       "            color:  #f1f1f1;\n",
       "        }#T_b4624_row0_col3,#T_b4624_row0_col7,#T_b4624_row2_col3{\n",
       "            background-color:  #08306b;\n",
       "            color:  #f1f1f1;\n",
       "        }#T_b4624_row1_col1,#T_b4624_row1_col5,#T_b4624_row4_col1,#T_b4624_row4_col5,#T_b4624_row5_col1,#T_b4624_row5_col5{\n",
       "            background-color:  #fff5f0;\n",
       "            color:  #000000;\n",
       "        }#T_b4624_row1_col3,#T_b4624_row1_col7,#T_b4624_row2_col7,#T_b4624_row4_col3,#T_b4624_row5_col3,#T_b4624_row6_col3{\n",
       "            background-color:  #f7fbff;\n",
       "            color:  #000000;\n",
       "        }#T_b4624_row2_col1,#T_b4624_row2_col5{\n",
       "            background-color:  #fff4ef;\n",
       "            color:  #000000;\n",
       "        }#T_b4624_row3_col1,#T_b4624_row3_col5{\n",
       "            background-color:  #feeae1;\n",
       "            color:  #000000;\n",
       "        }#T_b4624_row3_col3{\n",
       "            background-color:  #8cc0dd;\n",
       "            color:  #000000;\n",
       "        }#T_b4624_row3_col7{\n",
       "            background-color:  #e6f0f9;\n",
       "            color:  #000000;\n",
       "        }#T_b4624_row4_col7{\n",
       "            background-color:  #f5fafe;\n",
       "            color:  #000000;\n",
       "        }#T_b4624_row5_col7{\n",
       "            background-color:  #f6faff;\n",
       "            color:  #000000;\n",
       "        }#T_b4624_row6_col1{\n",
       "            background-color:  #fee9df;\n",
       "            color:  #000000;\n",
       "        }#T_b4624_row6_col5{\n",
       "            background-color:  #fff0e8;\n",
       "            color:  #000000;\n",
       "        }#T_b4624_row6_col7{\n",
       "            background-color:  #529dcc;\n",
       "            color:  #000000;\n",
       "        }</style><table id=\"T_b4624_\" ><thead>    <tr>        <th class=\"blank level0\" ></th>        <th class=\"col_heading level0 col0\" >count</th>        <th class=\"col_heading level0 col1\" >mean</th>        <th class=\"col_heading level0 col2\" >std</th>        <th class=\"col_heading level0 col3\" >min</th>        <th class=\"col_heading level0 col4\" >25%</th>        <th class=\"col_heading level0 col5\" >50%</th>        <th class=\"col_heading level0 col6\" >75%</th>        <th class=\"col_heading level0 col7\" >max</th>    </tr></thead><tbody>\n",
       "                <tr>\n",
       "                        <th id=\"T_b4624_level0_row0\" class=\"row_heading level0 row0\" >PassengerId</th>\n",
       "                        <td id=\"T_b4624_row0_col0\" class=\"data row0 col0\" >891.000000</td>\n",
       "                        <td id=\"T_b4624_row0_col1\" class=\"data row0 col1\" >446.000000</td>\n",
       "                        <td id=\"T_b4624_row0_col2\" class=\"data row0 col2\" >257.353842</td>\n",
       "                        <td id=\"T_b4624_row0_col3\" class=\"data row0 col3\" >1.000000</td>\n",
       "                        <td id=\"T_b4624_row0_col4\" class=\"data row0 col4\" >223.500000</td>\n",
       "                        <td id=\"T_b4624_row0_col5\" class=\"data row0 col5\" >446.000000</td>\n",
       "                        <td id=\"T_b4624_row0_col6\" class=\"data row0 col6\" >668.500000</td>\n",
       "                        <td id=\"T_b4624_row0_col7\" class=\"data row0 col7\" >891.000000</td>\n",
       "            </tr>\n",
       "            <tr>\n",
       "                        <th id=\"T_b4624_level0_row1\" class=\"row_heading level0 row1\" >Survived</th>\n",
       "                        <td id=\"T_b4624_row1_col0\" class=\"data row1 col0\" >891.000000</td>\n",
       "                        <td id=\"T_b4624_row1_col1\" class=\"data row1 col1\" >0.383838</td>\n",
       "                        <td id=\"T_b4624_row1_col2\" class=\"data row1 col2\" >0.486592</td>\n",
       "                        <td id=\"T_b4624_row1_col3\" class=\"data row1 col3\" >0.000000</td>\n",
       "                        <td id=\"T_b4624_row1_col4\" class=\"data row1 col4\" >0.000000</td>\n",
       "                        <td id=\"T_b4624_row1_col5\" class=\"data row1 col5\" >0.000000</td>\n",
       "                        <td id=\"T_b4624_row1_col6\" class=\"data row1 col6\" >1.000000</td>\n",
       "                        <td id=\"T_b4624_row1_col7\" class=\"data row1 col7\" >1.000000</td>\n",
       "            </tr>\n",
       "            <tr>\n",
       "                        <th id=\"T_b4624_level0_row2\" class=\"row_heading level0 row2\" >Pclass</th>\n",
       "                        <td id=\"T_b4624_row2_col0\" class=\"data row2 col0\" >891.000000</td>\n",
       "                        <td id=\"T_b4624_row2_col1\" class=\"data row2 col1\" >2.308642</td>\n",
       "                        <td id=\"T_b4624_row2_col2\" class=\"data row2 col2\" >0.836071</td>\n",
       "                        <td id=\"T_b4624_row2_col3\" class=\"data row2 col3\" >1.000000</td>\n",
       "                        <td id=\"T_b4624_row2_col4\" class=\"data row2 col4\" >2.000000</td>\n",
       "                        <td id=\"T_b4624_row2_col5\" class=\"data row2 col5\" >3.000000</td>\n",
       "                        <td id=\"T_b4624_row2_col6\" class=\"data row2 col6\" >3.000000</td>\n",
       "                        <td id=\"T_b4624_row2_col7\" class=\"data row2 col7\" >3.000000</td>\n",
       "            </tr>\n",
       "            <tr>\n",
       "                        <th id=\"T_b4624_level0_row3\" class=\"row_heading level0 row3\" >Age</th>\n",
       "                        <td id=\"T_b4624_row3_col0\" class=\"data row3 col0\" >714.000000</td>\n",
       "                        <td id=\"T_b4624_row3_col1\" class=\"data row3 col1\" >29.699118</td>\n",
       "                        <td id=\"T_b4624_row3_col2\" class=\"data row3 col2\" >14.526497</td>\n",
       "                        <td id=\"T_b4624_row3_col3\" class=\"data row3 col3\" >0.420000</td>\n",
       "                        <td id=\"T_b4624_row3_col4\" class=\"data row3 col4\" >20.125000</td>\n",
       "                        <td id=\"T_b4624_row3_col5\" class=\"data row3 col5\" >28.000000</td>\n",
       "                        <td id=\"T_b4624_row3_col6\" class=\"data row3 col6\" >38.000000</td>\n",
       "                        <td id=\"T_b4624_row3_col7\" class=\"data row3 col7\" >80.000000</td>\n",
       "            </tr>\n",
       "            <tr>\n",
       "                        <th id=\"T_b4624_level0_row4\" class=\"row_heading level0 row4\" >SibSp</th>\n",
       "                        <td id=\"T_b4624_row4_col0\" class=\"data row4 col0\" >891.000000</td>\n",
       "                        <td id=\"T_b4624_row4_col1\" class=\"data row4 col1\" >0.523008</td>\n",
       "                        <td id=\"T_b4624_row4_col2\" class=\"data row4 col2\" >1.102743</td>\n",
       "                        <td id=\"T_b4624_row4_col3\" class=\"data row4 col3\" >0.000000</td>\n",
       "                        <td id=\"T_b4624_row4_col4\" class=\"data row4 col4\" >0.000000</td>\n",
       "                        <td id=\"T_b4624_row4_col5\" class=\"data row4 col5\" >0.000000</td>\n",
       "                        <td id=\"T_b4624_row4_col6\" class=\"data row4 col6\" >1.000000</td>\n",
       "                        <td id=\"T_b4624_row4_col7\" class=\"data row4 col7\" >8.000000</td>\n",
       "            </tr>\n",
       "            <tr>\n",
       "                        <th id=\"T_b4624_level0_row5\" class=\"row_heading level0 row5\" >Parch</th>\n",
       "                        <td id=\"T_b4624_row5_col0\" class=\"data row5 col0\" >891.000000</td>\n",
       "                        <td id=\"T_b4624_row5_col1\" class=\"data row5 col1\" >0.381594</td>\n",
       "                        <td id=\"T_b4624_row5_col2\" class=\"data row5 col2\" >0.806057</td>\n",
       "                        <td id=\"T_b4624_row5_col3\" class=\"data row5 col3\" >0.000000</td>\n",
       "                        <td id=\"T_b4624_row5_col4\" class=\"data row5 col4\" >0.000000</td>\n",
       "                        <td id=\"T_b4624_row5_col5\" class=\"data row5 col5\" >0.000000</td>\n",
       "                        <td id=\"T_b4624_row5_col6\" class=\"data row5 col6\" >0.000000</td>\n",
       "                        <td id=\"T_b4624_row5_col7\" class=\"data row5 col7\" >6.000000</td>\n",
       "            </tr>\n",
       "            <tr>\n",
       "                        <th id=\"T_b4624_level0_row6\" class=\"row_heading level0 row6\" >Fare</th>\n",
       "                        <td id=\"T_b4624_row6_col0\" class=\"data row6 col0\" >891.000000</td>\n",
       "                        <td id=\"T_b4624_row6_col1\" class=\"data row6 col1\" >32.204208</td>\n",
       "                        <td id=\"T_b4624_row6_col2\" class=\"data row6 col2\" >49.693429</td>\n",
       "                        <td id=\"T_b4624_row6_col3\" class=\"data row6 col3\" >0.000000</td>\n",
       "                        <td id=\"T_b4624_row6_col4\" class=\"data row6 col4\" >7.910400</td>\n",
       "                        <td id=\"T_b4624_row6_col5\" class=\"data row6 col5\" >14.454200</td>\n",
       "                        <td id=\"T_b4624_row6_col6\" class=\"data row6 col6\" >31.000000</td>\n",
       "                        <td id=\"T_b4624_row6_col7\" class=\"data row6 col7\" >512.329200</td>\n",
       "            </tr>\n",
       "    </tbody></table>"
      ],
      "text/plain": [
       "<pandas.io.formats.style.Styler at 0x7fd80a5fcd10>"
      ]
     },
     "execution_count": 12,
     "metadata": {},
     "output_type": "execute_result"
    }
   ],
   "source": [
    "train.describe().T.style.background_gradient(subset = ['mean','50%'], cmap = 'Reds').background_gradient(subset = ['min', 'max'], cmap = 'Blues')"
   ]
  },
  {
   "cell_type": "code",
   "execution_count": 13,
   "id": "completed-income",
   "metadata": {
    "execution": {
     "iopub.execute_input": "2021-07-05T10:42:46.397328Z",
     "iopub.status.busy": "2021-07-05T10:42:46.395487Z",
     "iopub.status.idle": "2021-07-05T10:42:46.399514Z",
     "shell.execute_reply": "2021-07-05T10:42:46.399992Z",
     "shell.execute_reply.started": "2021-07-04T10:24:40.951564Z"
    },
    "papermill": {
     "duration": 0.048392,
     "end_time": "2021-07-05T10:42:46.400173",
     "exception": false,
     "start_time": "2021-07-05T10:42:46.351781",
     "status": "completed"
    },
    "tags": []
   },
   "outputs": [],
   "source": [
    "correlations = train.corr()"
   ]
  },
  {
   "cell_type": "code",
   "execution_count": 14,
   "id": "broke-scholarship",
   "metadata": {
    "execution": {
     "iopub.execute_input": "2021-07-05T10:42:46.484078Z",
     "iopub.status.busy": "2021-07-05T10:42:46.483451Z",
     "iopub.status.idle": "2021-07-05T10:42:46.963317Z",
     "shell.execute_reply": "2021-07-05T10:42:46.963768Z",
     "shell.execute_reply.started": "2021-07-04T10:24:40.958695Z"
    },
    "papermill": {
     "duration": 0.523308,
     "end_time": "2021-07-05T10:42:46.963929",
     "exception": false,
     "start_time": "2021-07-05T10:42:46.440621",
     "status": "completed"
    },
    "tags": []
   },
   "outputs": [
    {
     "data": {
      "text/plain": [
       "<AxesSubplot:>"
      ]
     },
     "execution_count": 14,
     "metadata": {},
     "output_type": "execute_result"
    },
    {
     "data": {
      "image/png": "[encoded data removed]",
      "text/plain": [
       "<Figure size 432x288 with 2 Axes>"
      ]
     },
     "metadata": {
      "needs_background": "light"
     },
     "output_type": "display_data"
    }
   ],
   "source": [
    "sns.heatmap(correlations, annot = True, cmap = 'Blues')"
   ]
  },
  {
   "cell_type": "markdown",
   "id": "stylish-street",
   "metadata": {
    "papermill": {
     "duration": 0.041023,
     "end_time": "2021-07-05T10:42:47.046546",
     "exception": false,
     "start_time": "2021-07-05T10:42:47.005523",
     "status": "completed"
    },
    "tags": []
   },
   "source": [
    "### EDA"
   ]
  },
  {
   "cell_type": "code",
   "execution_count": 15,
   "id": "intelligent-treat",
   "metadata": {
    "execution": {
     "iopub.execute_input": "2021-07-05T10:42:47.137255Z",
     "iopub.status.busy": "2021-07-05T10:42:47.136618Z",
     "iopub.status.idle": "2021-07-05T10:42:47.249589Z",
     "shell.execute_reply": "2021-07-05T10:42:47.250124Z",
     "shell.execute_reply.started": "2021-07-04T10:24:41.424104Z"
    },
    "papermill": {
     "duration": 0.16234,
     "end_time": "2021-07-05T10:42:47.250303",
     "exception": false,
     "start_time": "2021-07-05T10:42:47.087963",
     "status": "completed"
    },
    "tags": []
   },
   "outputs": [
    {
     "data": {
      "text/plain": [
       "<AxesSubplot:xlabel='Survived', ylabel='count'>"
      ]
     },
     "execution_count": 15,
     "metadata": {},
     "output_type": "execute_result"
    },
    {
     "data": {
      "image/png": "[encoded data removed]",
      "text/plain": [
       "<Figure size 432x288 with 1 Axes>"
      ]
     },
     "metadata": {
      "needs_background": "light"
     },
     "output_type": "display_data"
    }
   ],
   "source": [
    "sns.countplot(data = train, x = 'Survived', hue = 'Sex')"
   ]
  },
  {
   "cell_type": "markdown",
   "id": "funny-explosion",
   "metadata": {
    "papermill": {
     "duration": 0.041214,
     "end_time": "2021-07-05T10:42:47.333516",
     "exception": false,
     "start_time": "2021-07-05T10:42:47.292302",
     "status": "completed"
    },
    "tags": []
   },
   "source": [
    "**Conclusion** - Number of females Survived is greater than the number of males Survived"
   ]
  },
  {
   "cell_type": "code",
   "execution_count": 16,
   "id": "irish-ireland",
   "metadata": {
    "execution": {
     "iopub.execute_input": "2021-07-05T10:42:47.419958Z",
     "iopub.status.busy": "2021-07-05T10:42:47.419408Z",
     "iopub.status.idle": "2021-07-05T10:42:47.572431Z",
     "shell.execute_reply": "2021-07-05T10:42:47.572861Z",
     "shell.execute_reply.started": "2021-07-04T10:24:41.539687Z"
    },
    "papermill": {
     "duration": 0.197429,
     "end_time": "2021-07-05T10:42:47.573018",
     "exception": false,
     "start_time": "2021-07-05T10:42:47.375589",
     "status": "completed"
    },
    "tags": []
   },
   "outputs": [
    {
     "data": {
      "text/plain": [
       "<AxesSubplot:xlabel='Survived', ylabel='count'>"
      ]
     },
     "execution_count": 16,
     "metadata": {},
     "output_type": "execute_result"
    },
    {
     "data": {
      "image/png": "[encoded data removed]",
      "text/plain": [
       "<Figure size 432x288 with 1 Axes>"
      ]
     },
     "metadata": {
      "needs_background": "light"
     },
     "output_type": "display_data"
    }
   ],
   "source": [
    "sns.countplot(data = train, x = 'Survived', hue = 'Pclass')"
   ]
  },
  {
   "cell_type": "markdown",
   "id": "announced-trainer",
   "metadata": {
    "papermill": {
     "duration": 0.042767,
     "end_time": "2021-07-05T10:42:47.658430",
     "exception": false,
     "start_time": "2021-07-05T10:42:47.615663",
     "status": "completed"
    },
    "tags": []
   },
   "source": [
    "**conclusion** - More people of Pclass 3 died, while more of Pclass 1 survived"
   ]
  },
  {
   "cell_type": "markdown",
   "id": "ordinary-biodiversity",
   "metadata": {
    "papermill": {
     "duration": 0.042846,
     "end_time": "2021-07-05T10:42:47.744236",
     "exception": false,
     "start_time": "2021-07-05T10:42:47.701390",
     "status": "completed"
    },
    "tags": []
   },
   "source": [
    "### **Feature Transformation of - 'Age' Column**"
   ]
  },
  {
   "cell_type": "code",
   "execution_count": 17,
   "id": "wrapped-affair",
   "metadata": {
    "execution": {
     "iopub.execute_input": "2021-07-05T10:42:47.941531Z",
     "iopub.status.busy": "2021-07-05T10:42:47.940898Z",
     "iopub.status.idle": "2021-07-05T10:42:48.126761Z",
     "shell.execute_reply": "2021-07-05T10:42:48.126299Z",
     "shell.execute_reply.started": "2021-07-04T10:24:41.677296Z"
    },
    "papermill": {
     "duration": 0.339509,
     "end_time": "2021-07-05T10:42:48.126896",
     "exception": false,
     "start_time": "2021-07-05T10:42:47.787387",
     "status": "completed"
    },
    "tags": []
   },
   "outputs": [
    {
     "data": {
      "text/plain": [
       "<AxesSubplot:xlabel='Age', ylabel='Count'>"
      ]
     },
     "execution_count": 17,
     "metadata": {},
     "output_type": "execute_result"
    },
    {
     "data": {
      "image/png": "[encoded data removed]",
      "text/plain": [
       "<Figure size 432x288 with 1 Axes>"
      ]
     },
     "metadata": {
      "needs_background": "light"
     },
     "output_type": "display_data"
    }
   ],
   "source": [
    "sns.histplot(data = train, x = 'Age', kde = True)"
   ]
  },
  {
   "cell_type": "markdown",
   "id": "worldwide-forge",
   "metadata": {
    "papermill": {
     "duration": 0.04317,
     "end_time": "2021-07-05T10:42:48.213904",
     "exception": false,
     "start_time": "2021-07-05T10:42:48.170734",
     "status": "completed"
    },
    "tags": []
   },
   "source": [
    "Most people fall between age group 18 to 35"
   ]
  },
  {
   "cell_type": "markdown",
   "id": "sought-trail",
   "metadata": {
    "papermill": {
     "duration": 0.043332,
     "end_time": "2021-07-05T10:42:48.302452",
     "exception": false,
     "start_time": "2021-07-05T10:42:48.259120",
     "status": "completed"
    },
    "tags": []
   },
   "source": [
    "Age dataset is **right-skewed**"
   ]
  },
  {
   "cell_type": "code",
   "execution_count": 18,
   "id": "spatial-relation",
   "metadata": {
    "execution": {
     "iopub.execute_input": "2021-07-05T10:42:48.392984Z",
     "iopub.status.busy": "2021-07-05T10:42:48.392445Z",
     "iopub.status.idle": "2021-07-05T10:42:48.582414Z",
     "shell.execute_reply": "2021-07-05T10:42:48.582910Z",
     "shell.execute_reply.started": "2021-07-04T10:24:41.862809Z"
    },
    "papermill": {
     "duration": 0.236365,
     "end_time": "2021-07-05T10:42:48.583078",
     "exception": false,
     "start_time": "2021-07-05T10:42:48.346713",
     "status": "completed"
    },
    "tags": []
   },
   "outputs": [
    {
     "data": {
      "text/plain": [
       "<AxesSubplot:xlabel='Age', ylabel='Count'>"
      ]
     },
     "execution_count": 18,
     "metadata": {},
     "output_type": "execute_result"
    },
    {
     "data": {
      "image/png": "[encoded data removed]",
      "text/plain": [
       "<Figure size 432x288 with 1 Axes>"
      ]
     },
     "metadata": {
      "needs_background": "light"
     },
     "output_type": "display_data"
    }
   ],
   "source": [
    "ds = np.log1p(train['Age'])\n",
    "sns.histplot(data = train, x = ds, kde = True)"
   ]
  },
  {
   "cell_type": "code",
   "execution_count": 19,
   "id": "intimate-amendment",
   "metadata": {
    "execution": {
     "iopub.execute_input": "2021-07-05T10:42:48.675994Z",
     "iopub.status.busy": "2021-07-05T10:42:48.675424Z",
     "iopub.status.idle": "2021-07-05T10:42:48.850265Z",
     "shell.execute_reply": "2021-07-05T10:42:48.850744Z",
     "shell.execute_reply.started": "2021-07-04T10:24:42.056476Z"
    },
    "papermill": {
     "duration": 0.222596,
     "end_time": "2021-07-05T10:42:48.850904",
     "exception": false,
     "start_time": "2021-07-05T10:42:48.628308",
     "status": "completed"
    },
    "tags": []
   },
   "outputs": [
    {
     "data": {
      "text/plain": [
       "<AxesSubplot:xlabel='Age', ylabel='Count'>"
      ]
     },
     "execution_count": 19,
     "metadata": {},
     "output_type": "execute_result"
    },
    {
     "data": {
      "image/png": "[encoded data removed]",
      "text/plain": [
       "<Figure size 432x288 with 1 Axes>"
      ]
     },
     "metadata": {
      "needs_background": "light"
     },
     "output_type": "display_data"
    }
   ],
   "source": [
    "ds = np.sqrt(train['Age'])\n",
    "sns.histplot(data = train, x = ds, kde = True)"
   ]
  },
  {
   "cell_type": "code",
   "execution_count": 20,
   "id": "gothic-bennett",
   "metadata": {
    "execution": {
     "iopub.execute_input": "2021-07-05T10:42:48.973095Z",
     "iopub.status.busy": "2021-07-05T10:42:48.965298Z",
     "iopub.status.idle": "2021-07-05T10:42:49.154303Z",
     "shell.execute_reply": "2021-07-05T10:42:49.154699Z",
     "shell.execute_reply.started": "2021-07-04T10:24:42.238291Z"
    },
    "papermill": {
     "duration": 0.257759,
     "end_time": "2021-07-05T10:42:49.154859",
     "exception": false,
     "start_time": "2021-07-05T10:42:48.897100",
     "status": "completed"
    },
    "tags": []
   },
   "outputs": [
    {
     "data": {
      "text/plain": [
       "<AxesSubplot:xlabel='Fare', ylabel='Count'>"
      ]
     },
     "execution_count": 20,
     "metadata": {},
     "output_type": "execute_result"
    },
    {
     "data": {
      "image/png": "[encoded data removed]",
      "text/plain": [
       "<Figure size 432x288 with 1 Axes>"
      ]
     },
     "metadata": {
      "needs_background": "light"
     },
     "output_type": "display_data"
    }
   ],
   "source": [
    "ds = train['Fare']**(1/3)\n",
    "sns.histplot(data = train, x = ds, kde = True)"
   ]
  },
  {
   "cell_type": "markdown",
   "id": "australian-fancy",
   "metadata": {
    "papermill": {
     "duration": 0.045885,
     "end_time": "2021-07-05T10:42:49.246781",
     "exception": false,
     "start_time": "2021-07-05T10:42:49.200896",
     "status": "completed"
    },
    "tags": []
   },
   "source": [
    "### **Feature Transformation - 'Fare' Column**"
   ]
  },
  {
   "cell_type": "code",
   "execution_count": 21,
   "id": "disciplinary-closer",
   "metadata": {
    "execution": {
     "iopub.execute_input": "2021-07-05T10:42:49.362048Z",
     "iopub.status.busy": "2021-07-05T10:42:49.360286Z",
     "iopub.status.idle": "2021-07-05T10:42:49.649987Z",
     "shell.execute_reply": "2021-07-05T10:42:49.649519Z",
     "shell.execute_reply.started": "2021-07-04T10:24:42.442832Z"
    },
    "papermill": {
     "duration": 0.357542,
     "end_time": "2021-07-05T10:42:49.650165",
     "exception": false,
     "start_time": "2021-07-05T10:42:49.292623",
     "status": "completed"
    },
    "tags": []
   },
   "outputs": [
    {
     "data": {
      "text/plain": [
       "<AxesSubplot:xlabel='Fare', ylabel='Count'>"
      ]
     },
     "execution_count": 21,
     "metadata": {},
     "output_type": "execute_result"
    },
    {
     "data": {
      "image/png": "[encoded data removed]",
      "text/plain": [
       "<Figure size 432x288 with 1 Axes>"
      ]
     },
     "metadata": {
      "needs_background": "light"
     },
     "output_type": "display_data"
    }
   ],
   "source": [
    "sns.histplot(data = train, x = 'Fare', kde = True)"
   ]
  },
  {
   "cell_type": "markdown",
   "id": "early-brick",
   "metadata": {
    "papermill": {
     "duration": 0.047193,
     "end_time": "2021-07-05T10:42:49.744858",
     "exception": false,
     "start_time": "2021-07-05T10:42:49.697665",
     "status": "completed"
    },
    "tags": []
   },
   "source": [
    "Fare dataset is **right-skewed**"
   ]
  },
  {
   "cell_type": "code",
   "execution_count": 22,
   "id": "abroad-liability",
   "metadata": {
    "execution": {
     "iopub.execute_input": "2021-07-05T10:42:49.846509Z",
     "iopub.status.busy": "2021-07-05T10:42:49.845904Z",
     "iopub.status.idle": "2021-07-05T10:42:50.022703Z",
     "shell.execute_reply": "2021-07-05T10:42:50.023185Z",
     "shell.execute_reply.started": "2021-07-04T10:24:42.757851Z"
    },
    "papermill": {
     "duration": 0.231363,
     "end_time": "2021-07-05T10:42:50.023370",
     "exception": false,
     "start_time": "2021-07-05T10:42:49.792007",
     "status": "completed"
    },
    "tags": []
   },
   "outputs": [
    {
     "data": {
      "text/plain": [
       "<AxesSubplot:xlabel='Fare', ylabel='Count'>"
      ]
     },
     "execution_count": 22,
     "metadata": {},
     "output_type": "execute_result"
    },
    {
     "data": {
      "image/png": "[encoded data removed]",
      "text/plain": [
       "<Figure size 432x288 with 1 Axes>"
      ]
     },
     "metadata": {
      "needs_background": "light"
     },
     "output_type": "display_data"
    }
   ],
   "source": [
    "ds = np.log1p(train['Fare'])\n",
    "sns.histplot(data = train, x = ds, kde = True)"
   ]
  },
  {
   "cell_type": "code",
   "execution_count": 23,
   "id": "contained-luther",
   "metadata": {
    "execution": {
     "iopub.execute_input": "2021-07-05T10:42:50.122594Z",
     "iopub.status.busy": "2021-07-05T10:42:50.122030Z",
     "iopub.status.idle": "2021-07-05T10:42:50.310876Z",
     "shell.execute_reply": "2021-07-05T10:42:50.311400Z",
     "shell.execute_reply.started": "2021-07-04T10:24:42.939048Z"
    },
    "papermill": {
     "duration": 0.239793,
     "end_time": "2021-07-05T10:42:50.311560",
     "exception": false,
     "start_time": "2021-07-05T10:42:50.071767",
     "status": "completed"
    },
    "tags": []
   },
   "outputs": [
    {
     "data": {
      "text/plain": [
       "<AxesSubplot:xlabel='Fare', ylabel='Count'>"
      ]
     },
     "execution_count": 23,
     "metadata": {},
     "output_type": "execute_result"
    },
    {
     "data": {
      "image/png": "[encoded data removed]",
      "text/plain": [
       "<Figure size 432x288 with 1 Axes>"
      ]
     },
     "metadata": {
      "needs_background": "light"
     },
     "output_type": "display_data"
    }
   ],
   "source": [
    "ds = np.sqrt(train['Fare'])\n",
    "sns.histplot(data = train, x = ds, kde = True)"
   ]
  },
  {
   "cell_type": "code",
   "execution_count": 24,
   "id": "monetary-appraisal",
   "metadata": {
    "execution": {
     "iopub.execute_input": "2021-07-05T10:42:50.412606Z",
     "iopub.status.busy": "2021-07-05T10:42:50.411996Z",
     "iopub.status.idle": "2021-07-05T10:42:50.612320Z",
     "shell.execute_reply": "2021-07-05T10:42:50.612822Z",
     "shell.execute_reply.started": "2021-07-04T10:24:43.131073Z"
    },
    "papermill": {
     "duration": 0.252515,
     "end_time": "2021-07-05T10:42:50.612989",
     "exception": false,
     "start_time": "2021-07-05T10:42:50.360474",
     "status": "completed"
    },
    "tags": []
   },
   "outputs": [
    {
     "data": {
      "text/plain": [
       "<AxesSubplot:xlabel='Fare', ylabel='Count'>"
      ]
     },
     "execution_count": 24,
     "metadata": {},
     "output_type": "execute_result"
    },
    {
     "data": {
      "image/png": "[encoded data removed]",
      "text/plain": [
       "<Figure size 432x288 with 1 Axes>"
      ]
     },
     "metadata": {
      "needs_background": "light"
     },
     "output_type": "display_data"
    }
   ],
   "source": [
    "ds = train['Fare']**(1/3)\n",
    "sns.histplot(data = train, x = ds, kde = True)"
   ]
  },
  {
   "cell_type": "code",
   "execution_count": 25,
   "id": "little-danger",
   "metadata": {
    "execution": {
     "iopub.execute_input": "2021-07-05T10:42:50.719062Z",
     "iopub.status.busy": "2021-07-05T10:42:50.718477Z",
     "iopub.status.idle": "2021-07-05T10:42:50.908557Z",
     "shell.execute_reply": "2021-07-05T10:42:50.908038Z",
     "shell.execute_reply.started": "2021-07-04T10:24:43.337461Z"
    },
    "papermill": {
     "duration": 0.244556,
     "end_time": "2021-07-05T10:42:50.908689",
     "exception": false,
     "start_time": "2021-07-05T10:42:50.664133",
     "status": "completed"
    },
    "tags": []
   },
   "outputs": [
    {
     "data": {
      "text/plain": [
       "<AxesSubplot:>"
      ]
     },
     "execution_count": 25,
     "metadata": {},
     "output_type": "execute_result"
    },
    {
     "data": {
      "image/png": "[encoded data removed]",
      "text/plain": [
       "<Figure size 432x288 with 1 Axes>"
      ]
     },
     "metadata": {
      "needs_background": "light"
     },
     "output_type": "display_data"
    }
   ],
   "source": [
    "sns.heatmap(train.isnull(), yticklabels = False, cbar = False, cmap = 'viridis')"
   ]
  },
  {
   "cell_type": "code",
   "execution_count": 26,
   "id": "alike-pennsylvania",
   "metadata": {
    "execution": {
     "iopub.execute_input": "2021-07-05T10:42:51.018700Z",
     "iopub.status.busy": "2021-07-05T10:42:51.017765Z",
     "iopub.status.idle": "2021-07-05T10:42:51.175390Z",
     "shell.execute_reply": "2021-07-05T10:42:51.174859Z",
     "shell.execute_reply.started": "2021-07-04T10:24:43.523962Z"
    },
    "papermill": {
     "duration": 0.215929,
     "end_time": "2021-07-05T10:42:51.175528",
     "exception": false,
     "start_time": "2021-07-05T10:42:50.959599",
     "status": "completed"
    },
    "tags": []
   },
   "outputs": [
    {
     "data": {
      "text/plain": [
       "<AxesSubplot:xlabel='Pclass', ylabel='Age'>"
      ]
     },
     "execution_count": 26,
     "metadata": {},
     "output_type": "execute_result"
    },
    {
     "data": {
      "image/png": "[encoded data removed]",
      "text/plain": [
       "<Figure size 864x504 with 1 Axes>"
      ]
     },
     "metadata": {
      "needs_background": "light"
     },
     "output_type": "display_data"
    }
   ],
   "source": [
    "plt.figure(figsize = (12, 7))\n",
    "sns.boxplot(x = 'Pclass', y = 'Age', palette = 'rainbow', data = train)"
   ]
  },
  {
   "cell_type": "code",
   "execution_count": 27,
   "id": "photographic-country",
   "metadata": {
    "execution": {
     "iopub.execute_input": "2021-07-05T10:42:51.284604Z",
     "iopub.status.busy": "2021-07-05T10:42:51.284006Z",
     "iopub.status.idle": "2021-07-05T10:42:51.286422Z",
     "shell.execute_reply": "2021-07-05T10:42:51.286820Z",
     "shell.execute_reply.started": "2021-07-04T10:24:43.68108Z"
    },
    "papermill": {
     "duration": 0.059887,
     "end_time": "2021-07-05T10:42:51.286983",
     "exception": false,
     "start_time": "2021-07-05T10:42:51.227096",
     "status": "completed"
    },
    "tags": []
   },
   "outputs": [],
   "source": [
    "# mean Age of Pclass 1 = 38\n",
    "# mean Age of Pclass 2 = 30\n",
    "# mean Age of Pclass 3 = 25\n",
    "\n",
    "def impute_age(col):\n",
    "    Age = col[0]\n",
    "    Pclass = col[1]\n",
    "    if pd.isnull(Age):\n",
    "        if(Pclass == 1):\n",
    "            return 38\n",
    "        elif(Pclass == 2):\n",
    "            return 30\n",
    "        else:\n",
    "            return 25\n",
    "    else:\n",
    "        return Age"
   ]
  },
  {
   "cell_type": "code",
   "execution_count": 28,
   "id": "instant-australia",
   "metadata": {
    "execution": {
     "iopub.execute_input": "2021-07-05T10:42:51.396090Z",
     "iopub.status.busy": "2021-07-05T10:42:51.395495Z",
     "iopub.status.idle": "2021-07-05T10:42:51.398539Z",
     "shell.execute_reply": "2021-07-05T10:42:51.397967Z",
     "shell.execute_reply.started": "2021-07-04T10:24:43.688769Z"
    },
    "papermill": {
     "duration": 0.060074,
     "end_time": "2021-07-05T10:42:51.398691",
     "exception": false,
     "start_time": "2021-07-05T10:42:51.338617",
     "status": "completed"
    },
    "tags": []
   },
   "outputs": [],
   "source": [
    "def process_data(df):\n",
    "    df.Age = df[['Age', 'Pclass']].apply(impute_age, axis = 1)\n",
    "    df['Fare'] = np.log1p(df['Fare'])\n",
    "    df['Age'] = np.sqrt(df['Age'])\n",
    "    df.drop(['PassengerId', 'Name', 'Ticket', 'Cabin'], axis = 1, inplace = True)\n",
    "    return df"
   ]
  },
  {
   "cell_type": "code",
   "execution_count": 29,
   "id": "fiscal-sheep",
   "metadata": {
    "execution": {
     "iopub.execute_input": "2021-07-05T10:42:51.522030Z",
     "iopub.status.busy": "2021-07-05T10:42:51.515398Z",
     "iopub.status.idle": "2021-07-05T10:42:51.524983Z",
     "shell.execute_reply": "2021-07-05T10:42:51.525442Z",
     "shell.execute_reply.started": "2021-07-04T10:24:43.697694Z"
    },
    "papermill": {
     "duration": 0.073787,
     "end_time": "2021-07-05T10:42:51.525754",
     "exception": false,
     "start_time": "2021-07-05T10:42:51.451967",
     "status": "completed"
    },
    "tags": []
   },
   "outputs": [],
   "source": [
    "train = process_data(train)"
   ]
  },
  {
   "cell_type": "code",
   "execution_count": 30,
   "id": "crucial-sequence",
   "metadata": {
    "execution": {
     "iopub.execute_input": "2021-07-05T10:42:51.643863Z",
     "iopub.status.busy": "2021-07-05T10:42:51.642621Z",
     "iopub.status.idle": "2021-07-05T10:42:51.786691Z",
     "shell.execute_reply": "2021-07-05T10:42:51.786226Z",
     "shell.execute_reply.started": "2021-07-04T10:24:43.718578Z"
    },
    "papermill": {
     "duration": 0.20816,
     "end_time": "2021-07-05T10:42:51.786829",
     "exception": false,
     "start_time": "2021-07-05T10:42:51.578669",
     "status": "completed"
    },
    "tags": []
   },
   "outputs": [
    {
     "data": {
      "text/plain": [
       "<AxesSubplot:>"
      ]
     },
     "execution_count": 30,
     "metadata": {},
     "output_type": "execute_result"
    },
    {
     "data": {
      "image/png": "[encoded data removed]",
      "text/plain": [
       "<Figure size 432x288 with 1 Axes>"
      ]
     },
     "metadata": {
      "needs_background": "light"
     },
     "output_type": "display_data"
    }
   ],
   "source": [
    "sns.heatmap(train.isnull(), yticklabels = False, cbar = False, cmap = 'viridis')"
   ]
  },
  {
   "cell_type": "code",
   "execution_count": 31,
   "id": "bored-rating",
   "metadata": {
    "execution": {
     "iopub.execute_input": "2021-07-05T10:42:51.904528Z",
     "iopub.status.busy": "2021-07-05T10:42:51.903911Z",
     "iopub.status.idle": "2021-07-05T10:42:51.907935Z",
     "shell.execute_reply": "2021-07-05T10:42:51.907460Z",
     "shell.execute_reply.started": "2021-07-04T10:24:43.869055Z"
    },
    "papermill": {
     "duration": 0.069133,
     "end_time": "2021-07-05T10:42:51.908067",
     "exception": false,
     "start_time": "2021-07-05T10:42:51.838934",
     "status": "completed"
    },
    "tags": []
   },
   "outputs": [
    {
     "data": {
      "text/html": [
       "<div>\n",
       "<style scoped>\n",
       "    .dataframe tbody tr th:only-of-type {\n",
       "        vertical-align: middle;\n",
       "    }\n",
       "\n",
       "    .dataframe tbody tr th {\n",
       "        vertical-align: top;\n",
       "    }\n",
       "\n",
       "    .dataframe thead th {\n",
       "        text-align: right;\n",
       "    }\n",
       "</style>\n",
       "<table border=\"1\" class=\"dataframe\">\n",
       "  <thead>\n",
       "    <tr style=\"text-align: right;\">\n",
       "      <th></th>\n",
       "      <th>Survived</th>\n",
       "      <th>Pclass</th>\n",
       "      <th>Sex</th>\n",
       "      <th>Age</th>\n",
       "      <th>SibSp</th>\n",
       "      <th>Parch</th>\n",
       "      <th>Fare</th>\n",
       "      <th>Embarked</th>\n",
       "    </tr>\n",
       "  </thead>\n",
       "  <tbody>\n",
       "    <tr>\n",
       "      <th>0</th>\n",
       "      <td>0</td>\n",
       "      <td>3</td>\n",
       "      <td>male</td>\n",
       "      <td>4.690416</td>\n",
       "      <td>1</td>\n",
       "      <td>0</td>\n",
       "      <td>2.110213</td>\n",
       "      <td>S</td>\n",
       "    </tr>\n",
       "    <tr>\n",
       "      <th>1</th>\n",
       "      <td>1</td>\n",
       "      <td>1</td>\n",
       "      <td>female</td>\n",
       "      <td>6.164414</td>\n",
       "      <td>1</td>\n",
       "      <td>0</td>\n",
       "      <td>4.280593</td>\n",
       "      <td>C</td>\n",
       "    </tr>\n",
       "    <tr>\n",
       "      <th>2</th>\n",
       "      <td>1</td>\n",
       "      <td>3</td>\n",
       "      <td>female</td>\n",
       "      <td>5.099020</td>\n",
       "      <td>0</td>\n",
       "      <td>0</td>\n",
       "      <td>2.188856</td>\n",
       "      <td>S</td>\n",
       "    </tr>\n",
       "    <tr>\n",
       "      <th>3</th>\n",
       "      <td>1</td>\n",
       "      <td>1</td>\n",
       "      <td>female</td>\n",
       "      <td>5.916080</td>\n",
       "      <td>1</td>\n",
       "      <td>0</td>\n",
       "      <td>3.990834</td>\n",
       "      <td>S</td>\n",
       "    </tr>\n",
       "    <tr>\n",
       "      <th>4</th>\n",
       "      <td>0</td>\n",
       "      <td>3</td>\n",
       "      <td>male</td>\n",
       "      <td>5.916080</td>\n",
       "      <td>0</td>\n",
       "      <td>0</td>\n",
       "      <td>2.202765</td>\n",
       "      <td>S</td>\n",
       "    </tr>\n",
       "  </tbody>\n",
       "</table>\n",
       "</div>"
      ],
      "text/plain": [
       "   Survived  Pclass     Sex       Age  SibSp  Parch      Fare Embarked\n",
       "0         0       3    male  4.690416      1      0  2.110213        S\n",
       "1         1       1  female  6.164414      1      0  4.280593        C\n",
       "2         1       3  female  5.099020      0      0  2.188856        S\n",
       "3         1       1  female  5.916080      1      0  3.990834        S\n",
       "4         0       3    male  5.916080      0      0  2.202765        S"
      ]
     },
     "execution_count": 31,
     "metadata": {},
     "output_type": "execute_result"
    }
   ],
   "source": [
    "train.head()"
   ]
  },
  {
   "cell_type": "code",
   "execution_count": 32,
   "id": "utility-planning",
   "metadata": {
    "execution": {
     "iopub.execute_input": "2021-07-05T10:42:52.026121Z",
     "iopub.status.busy": "2021-07-05T10:42:52.015635Z",
     "iopub.status.idle": "2021-07-05T10:42:52.028606Z",
     "shell.execute_reply": "2021-07-05T10:42:52.028999Z",
     "shell.execute_reply.started": "2021-07-04T10:24:43.882071Z"
    },
    "papermill": {
     "duration": 0.068425,
     "end_time": "2021-07-05T10:42:52.029180",
     "exception": false,
     "start_time": "2021-07-05T10:42:51.960755",
     "status": "completed"
    },
    "tags": []
   },
   "outputs": [],
   "source": [
    "Id = test['PassengerId']\n",
    "test = process_data(test)"
   ]
  },
  {
   "cell_type": "code",
   "execution_count": 33,
   "id": "enclosed-winning",
   "metadata": {
    "execution": {
     "iopub.execute_input": "2021-07-05T10:42:52.146122Z",
     "iopub.status.busy": "2021-07-05T10:42:52.145520Z",
     "iopub.status.idle": "2021-07-05T10:42:52.150026Z",
     "shell.execute_reply": "2021-07-05T10:42:52.149467Z",
     "shell.execute_reply.started": "2021-07-04T10:24:43.898166Z"
    },
    "papermill": {
     "duration": 0.068261,
     "end_time": "2021-07-05T10:42:52.150172",
     "exception": false,
     "start_time": "2021-07-05T10:42:52.081911",
     "status": "completed"
    },
    "tags": []
   },
   "outputs": [
    {
     "data": {
      "text/html": [
       "<div>\n",
       "<style scoped>\n",
       "    .dataframe tbody tr th:only-of-type {\n",
       "        vertical-align: middle;\n",
       "    }\n",
       "\n",
       "    .dataframe tbody tr th {\n",
       "        vertical-align: top;\n",
       "    }\n",
       "\n",
       "    .dataframe thead th {\n",
       "        text-align: right;\n",
       "    }\n",
       "</style>\n",
       "<table border=\"1\" class=\"dataframe\">\n",
       "  <thead>\n",
       "    <tr style=\"text-align: right;\">\n",
       "      <th></th>\n",
       "      <th>Pclass</th>\n",
       "      <th>Sex</th>\n",
       "      <th>Age</th>\n",
       "      <th>SibSp</th>\n",
       "      <th>Parch</th>\n",
       "      <th>Fare</th>\n",
       "      <th>Embarked</th>\n",
       "    </tr>\n",
       "  </thead>\n",
       "  <tbody>\n",
       "    <tr>\n",
       "      <th>0</th>\n",
       "      <td>3</td>\n",
       "      <td>male</td>\n",
       "      <td>5.873670</td>\n",
       "      <td>0</td>\n",
       "      <td>0</td>\n",
       "      <td>2.178064</td>\n",
       "      <td>Q</td>\n",
       "    </tr>\n",
       "    <tr>\n",
       "      <th>1</th>\n",
       "      <td>3</td>\n",
       "      <td>female</td>\n",
       "      <td>6.855655</td>\n",
       "      <td>1</td>\n",
       "      <td>0</td>\n",
       "      <td>2.079442</td>\n",
       "      <td>S</td>\n",
       "    </tr>\n",
       "    <tr>\n",
       "      <th>2</th>\n",
       "      <td>2</td>\n",
       "      <td>male</td>\n",
       "      <td>7.874008</td>\n",
       "      <td>0</td>\n",
       "      <td>0</td>\n",
       "      <td>2.369075</td>\n",
       "      <td>Q</td>\n",
       "    </tr>\n",
       "    <tr>\n",
       "      <th>3</th>\n",
       "      <td>3</td>\n",
       "      <td>male</td>\n",
       "      <td>5.196152</td>\n",
       "      <td>0</td>\n",
       "      <td>0</td>\n",
       "      <td>2.268252</td>\n",
       "      <td>S</td>\n",
       "    </tr>\n",
       "    <tr>\n",
       "      <th>4</th>\n",
       "      <td>3</td>\n",
       "      <td>female</td>\n",
       "      <td>4.690416</td>\n",
       "      <td>1</td>\n",
       "      <td>1</td>\n",
       "      <td>2.586824</td>\n",
       "      <td>S</td>\n",
       "    </tr>\n",
       "  </tbody>\n",
       "</table>\n",
       "</div>"
      ],
      "text/plain": [
       "   Pclass     Sex       Age  SibSp  Parch      Fare Embarked\n",
       "0       3    male  5.873670      0      0  2.178064        Q\n",
       "1       3  female  6.855655      1      0  2.079442        S\n",
       "2       2    male  7.874008      0      0  2.369075        Q\n",
       "3       3    male  5.196152      0      0  2.268252        S\n",
       "4       3  female  4.690416      1      1  2.586824        S"
      ]
     },
     "execution_count": 33,
     "metadata": {},
     "output_type": "execute_result"
    }
   ],
   "source": [
    "test.head()"
   ]
  },
  {
   "cell_type": "code",
   "execution_count": 34,
   "id": "large-upgrade",
   "metadata": {
    "execution": {
     "iopub.execute_input": "2021-07-05T10:42:52.284554Z",
     "iopub.status.busy": "2021-07-05T10:42:52.282632Z",
     "iopub.status.idle": "2021-07-05T10:42:52.394928Z",
     "shell.execute_reply": "2021-07-05T10:42:52.395685Z",
     "shell.execute_reply.started": "2021-07-04T10:24:43.915692Z"
    },
    "papermill": {
     "duration": 0.192913,
     "end_time": "2021-07-05T10:42:52.395958",
     "exception": false,
     "start_time": "2021-07-05T10:42:52.203045",
     "status": "completed"
    },
    "tags": []
   },
   "outputs": [
    {
     "data": {
      "text/plain": [
       "<AxesSubplot:>"
      ]
     },
     "execution_count": 34,
     "metadata": {},
     "output_type": "execute_result"
    },
    {
     "data": {
      "image/png": "[encoded data removed]",
      "text/plain": [
       "<Figure size 432x288 with 1 Axes>"
      ]
     },
     "metadata": {
      "needs_background": "light"
     },
     "output_type": "display_data"
    }
   ],
   "source": [
    "sns.heatmap(test.isnull(), yticklabels = False, cbar = False, cmap = 'viridis')"
   ]
  },
  {
   "cell_type": "markdown",
   "id": "intelligent-export",
   "metadata": {
    "papermill": {
     "duration": 0.05344,
     "end_time": "2021-07-05T10:42:52.508361",
     "exception": false,
     "start_time": "2021-07-05T10:42:52.454921",
     "status": "completed"
    },
    "tags": []
   },
   "source": [
    "Minor Missing values can be handled as below"
   ]
  },
  {
   "cell_type": "markdown",
   "id": "french-guitar",
   "metadata": {
    "papermill": {
     "duration": 0.053542,
     "end_time": "2021-07-05T10:42:52.616845",
     "exception": false,
     "start_time": "2021-07-05T10:42:52.563303",
     "status": "completed"
    },
    "tags": []
   },
   "source": [
    "### Building a Model"
   ]
  },
  {
   "cell_type": "code",
   "execution_count": 35,
   "id": "qualified-trader",
   "metadata": {
    "execution": {
     "iopub.execute_input": "2021-07-05T10:42:52.727599Z",
     "iopub.status.busy": "2021-07-05T10:42:52.727030Z",
     "iopub.status.idle": "2021-07-05T10:42:52.731172Z",
     "shell.execute_reply": "2021-07-05T10:42:52.730738Z",
     "shell.execute_reply.started": "2021-07-04T10:24:44.051577Z"
    },
    "papermill": {
     "duration": 0.060572,
     "end_time": "2021-07-05T10:42:52.731303",
     "exception": false,
     "start_time": "2021-07-05T10:42:52.670731",
     "status": "completed"
    },
    "tags": []
   },
   "outputs": [],
   "source": [
    "target = 'Survived'\n",
    "cols = ['Pclass', 'Sex', 'Age', 'SibSp', 'Parch', 'Fare', 'Embarked']"
   ]
  },
  {
   "cell_type": "code",
   "execution_count": 36,
   "id": "homeless-substitute",
   "metadata": {
    "execution": {
     "iopub.execute_input": "2021-07-05T10:42:52.844686Z",
     "iopub.status.busy": "2021-07-05T10:42:52.843862Z",
     "iopub.status.idle": "2021-07-05T10:42:52.847707Z",
     "shell.execute_reply": "2021-07-05T10:42:52.847112Z",
     "shell.execute_reply.started": "2021-07-04T10:24:44.058023Z"
    },
    "papermill": {
     "duration": 0.062623,
     "end_time": "2021-07-05T10:42:52.847841",
     "exception": false,
     "start_time": "2021-07-05T10:42:52.785218",
     "status": "completed"
    },
    "tags": []
   },
   "outputs": [
    {
     "data": {
      "text/plain": [
       "['Pclass', 'Sex', 'Age', 'SibSp', 'Parch', 'Fare', 'Embarked']"
      ]
     },
     "execution_count": 36,
     "metadata": {},
     "output_type": "execute_result"
    }
   ],
   "source": [
    "cols"
   ]
  },
  {
   "cell_type": "code",
   "execution_count": 37,
   "id": "decent-wednesday",
   "metadata": {
    "execution": {
     "iopub.execute_input": "2021-07-05T10:42:52.962112Z",
     "iopub.status.busy": "2021-07-05T10:42:52.961515Z",
     "iopub.status.idle": "2021-07-05T10:42:52.963728Z",
     "shell.execute_reply": "2021-07-05T10:42:52.963263Z",
     "shell.execute_reply.started": "2021-07-04T10:24:44.069421Z"
    },
    "papermill": {
     "duration": 0.061359,
     "end_time": "2021-07-05T10:42:52.963855",
     "exception": false,
     "start_time": "2021-07-05T10:42:52.902496",
     "status": "completed"
    },
    "tags": []
   },
   "outputs": [],
   "source": [
    "num_cols = [col for col in cols if train[col].dtype in ['int64', 'float64']]\n",
    "cat_cols = [col for col in cols if train[col].dtype == 'object']"
   ]
  },
  {
   "cell_type": "code",
   "execution_count": 38,
   "id": "alternative-review",
   "metadata": {
    "execution": {
     "iopub.execute_input": "2021-07-05T10:42:53.077057Z",
     "iopub.status.busy": "2021-07-05T10:42:53.076465Z",
     "iopub.status.idle": "2021-07-05T10:42:53.079672Z",
     "shell.execute_reply": "2021-07-05T10:42:53.080059Z",
     "shell.execute_reply.started": "2021-07-04T10:24:44.080392Z"
    },
    "papermill": {
     "duration": 0.062064,
     "end_time": "2021-07-05T10:42:53.080258",
     "exception": false,
     "start_time": "2021-07-05T10:42:53.018194",
     "status": "completed"
    },
    "tags": []
   },
   "outputs": [
    {
     "data": {
      "text/plain": [
       "['Pclass', 'Age', 'SibSp', 'Parch', 'Fare']"
      ]
     },
     "execution_count": 38,
     "metadata": {},
     "output_type": "execute_result"
    }
   ],
   "source": [
    "num_cols"
   ]
  },
  {
   "cell_type": "code",
   "execution_count": 39,
   "id": "computational-crystal",
   "metadata": {
    "execution": {
     "iopub.execute_input": "2021-07-05T10:42:53.192837Z",
     "iopub.status.busy": "2021-07-05T10:42:53.192271Z",
     "iopub.status.idle": "2021-07-05T10:42:53.196492Z",
     "shell.execute_reply": "2021-07-05T10:42:53.196954Z",
     "shell.execute_reply.started": "2021-07-04T10:24:44.090464Z"
    },
    "papermill": {
     "duration": 0.062886,
     "end_time": "2021-07-05T10:42:53.197108",
     "exception": false,
     "start_time": "2021-07-05T10:42:53.134222",
     "status": "completed"
    },
    "tags": []
   },
   "outputs": [
    {
     "data": {
      "text/plain": [
       "['Sex', 'Embarked']"
      ]
     },
     "execution_count": 39,
     "metadata": {},
     "output_type": "execute_result"
    }
   ],
   "source": [
    "cat_cols"
   ]
  },
  {
   "cell_type": "code",
   "execution_count": 40,
   "id": "yellow-extra",
   "metadata": {
    "execution": {
     "iopub.execute_input": "2021-07-05T10:42:53.308815Z",
     "iopub.status.busy": "2021-07-05T10:42:53.308260Z",
     "iopub.status.idle": "2021-07-05T10:42:53.575533Z",
     "shell.execute_reply": "2021-07-05T10:42:53.574940Z",
     "shell.execute_reply.started": "2021-07-04T10:24:44.100893Z"
    },
    "papermill": {
     "duration": 0.32425,
     "end_time": "2021-07-05T10:42:53.575678",
     "exception": false,
     "start_time": "2021-07-05T10:42:53.251428",
     "status": "completed"
    },
    "tags": []
   },
   "outputs": [],
   "source": [
    "from sklearn.preprocessing import OneHotEncoder\n",
    "from sklearn.impute import SimpleImputer\n",
    "from sklearn.preprocessing import StandardScaler\n",
    "from sklearn.pipeline import Pipeline\n",
    "from sklearn.compose import ColumnTransformer"
   ]
  },
  {
   "cell_type": "code",
   "execution_count": 41,
   "id": "equivalent-understanding",
   "metadata": {
    "execution": {
     "iopub.execute_input": "2021-07-05T10:42:53.689816Z",
     "iopub.status.busy": "2021-07-05T10:42:53.689220Z",
     "iopub.status.idle": "2021-07-05T10:42:53.691539Z",
     "shell.execute_reply": "2021-07-05T10:42:53.691937Z",
     "shell.execute_reply.started": "2021-07-04T10:24:44.109246Z"
    },
    "papermill": {
     "duration": 0.061408,
     "end_time": "2021-07-05T10:42:53.692099",
     "exception": false,
     "start_time": "2021-07-05T10:42:53.630691",
     "status": "completed"
    },
    "tags": []
   },
   "outputs": [],
   "source": [
    "num_processor = Pipeline(steps = [\n",
    "    ('imputer', SimpleImputer(strategy = 'most_frequent')),\n",
    "    ('scaler', StandardScaler())\n",
    "])"
   ]
  },
  {
   "cell_type": "code",
   "execution_count": 42,
   "id": "north-future",
   "metadata": {
    "execution": {
     "iopub.execute_input": "2021-07-05T10:42:53.806073Z",
     "iopub.status.busy": "2021-07-05T10:42:53.805321Z",
     "iopub.status.idle": "2021-07-05T10:42:53.808006Z",
     "shell.execute_reply": "2021-07-05T10:42:53.808415Z",
     "shell.execute_reply.started": "2021-07-04T10:24:44.122643Z"
    },
    "papermill": {
     "duration": 0.062128,
     "end_time": "2021-07-05T10:42:53.808590",
     "exception": false,
     "start_time": "2021-07-05T10:42:53.746462",
     "status": "completed"
    },
    "tags": []
   },
   "outputs": [],
   "source": [
    "cat_processor = Pipeline(steps = [\n",
    "    ('imputer', SimpleImputer(strategy = 'most_frequent')),\n",
    "    ('ohe', OneHotEncoder(handle_unknown = 'ignore'))\n",
    "])"
   ]
  },
  {
   "cell_type": "code",
   "execution_count": 43,
   "id": "secret-commission",
   "metadata": {
    "execution": {
     "iopub.execute_input": "2021-07-05T10:42:53.922057Z",
     "iopub.status.busy": "2021-07-05T10:42:53.921114Z",
     "iopub.status.idle": "2021-07-05T10:42:53.925968Z",
     "shell.execute_reply": "2021-07-05T10:42:53.925524Z",
     "shell.execute_reply.started": "2021-07-04T10:24:44.132121Z"
    },
    "papermill": {
     "duration": 0.062535,
     "end_time": "2021-07-05T10:42:53.926114",
     "exception": false,
     "start_time": "2021-07-05T10:42:53.863579",
     "status": "completed"
    },
    "tags": []
   },
   "outputs": [],
   "source": [
    "pre_processor = ColumnTransformer([\n",
    "    ('num', num_processor, num_cols),\n",
    "    ('cat', cat_processor, cat_cols)\n",
    "])"
   ]
  },
  {
   "cell_type": "code",
   "execution_count": 44,
   "id": "native-maintenance",
   "metadata": {
    "execution": {
     "iopub.execute_input": "2021-07-05T10:42:54.042252Z",
     "iopub.status.busy": "2021-07-05T10:42:54.041312Z",
     "iopub.status.idle": "2021-07-05T10:42:54.043729Z",
     "shell.execute_reply": "2021-07-05T10:42:54.044108Z",
     "shell.execute_reply.started": "2021-07-04T10:24:44.14108Z"
    },
    "papermill": {
     "duration": 0.063119,
     "end_time": "2021-07-05T10:42:54.044302",
     "exception": false,
     "start_time": "2021-07-05T10:42:53.981183",
     "status": "completed"
    },
    "tags": []
   },
   "outputs": [],
   "source": [
    "X = train[cols]\n",
    "y = train[target]"
   ]
  },
  {
   "cell_type": "code",
   "execution_count": 45,
   "id": "historical-expression",
   "metadata": {
    "execution": {
     "iopub.execute_input": "2021-07-05T10:42:54.158515Z",
     "iopub.status.busy": "2021-07-05T10:42:54.157925Z",
     "iopub.status.idle": "2021-07-05T10:42:54.160571Z",
     "shell.execute_reply": "2021-07-05T10:42:54.160132Z",
     "shell.execute_reply.started": "2021-07-04T10:24:44.281559Z"
    },
    "papermill": {
     "duration": 0.061889,
     "end_time": "2021-07-05T10:42:54.160697",
     "exception": false,
     "start_time": "2021-07-05T10:42:54.098808",
     "status": "completed"
    },
    "tags": []
   },
   "outputs": [],
   "source": [
    "from sklearn.model_selection import train_test_split\n",
    "from sklearn.metrics import plot_confusion_matrix\n",
    "from sklearn.metrics import classification_report"
   ]
  },
  {
   "cell_type": "code",
   "execution_count": 46,
   "id": "gothic-saskatchewan",
   "metadata": {
    "execution": {
     "iopub.execute_input": "2021-07-05T10:42:54.275342Z",
     "iopub.status.busy": "2021-07-05T10:42:54.274529Z",
     "iopub.status.idle": "2021-07-05T10:42:54.278257Z",
     "shell.execute_reply": "2021-07-05T10:42:54.278670Z",
     "shell.execute_reply.started": "2021-07-04T10:24:44.286538Z"
    },
    "papermill": {
     "duration": 0.063883,
     "end_time": "2021-07-05T10:42:54.278836",
     "exception": false,
     "start_time": "2021-07-05T10:42:54.214953",
     "status": "completed"
    },
    "tags": []
   },
   "outputs": [],
   "source": [
    "X_train, X_test, y_train, y_test = train_test_split(X, y, test_size = 0.3, random_state = 42)"
   ]
  },
  {
   "cell_type": "code",
   "execution_count": 47,
   "id": "exterior-territory",
   "metadata": {
    "execution": {
     "iopub.execute_input": "2021-07-05T10:42:54.392593Z",
     "iopub.status.busy": "2021-07-05T10:42:54.391859Z",
     "iopub.status.idle": "2021-07-05T10:42:54.395451Z",
     "shell.execute_reply": "2021-07-05T10:42:54.395850Z",
     "shell.execute_reply.started": "2021-07-04T10:24:44.299225Z"
    },
    "papermill": {
     "duration": 0.062581,
     "end_time": "2021-07-05T10:42:54.396011",
     "exception": false,
     "start_time": "2021-07-05T10:42:54.333430",
     "status": "completed"
    },
    "tags": []
   },
   "outputs": [
    {
     "name": "stdout",
     "output_type": "stream",
     "text": [
      "(623, 7)\n",
      "(623,)\n"
     ]
    }
   ],
   "source": [
    "print(X_train.shape)\n",
    "print(y_train.shape)"
   ]
  },
  {
   "cell_type": "code",
   "execution_count": 48,
   "id": "relative-object",
   "metadata": {
    "execution": {
     "iopub.execute_input": "2021-07-05T10:42:54.510793Z",
     "iopub.status.busy": "2021-07-05T10:42:54.510119Z",
     "iopub.status.idle": "2021-07-05T10:42:54.513737Z",
     "shell.execute_reply": "2021-07-05T10:42:54.513136Z",
     "shell.execute_reply.started": "2021-07-04T10:24:44.309215Z"
    },
    "papermill": {
     "duration": 0.062695,
     "end_time": "2021-07-05T10:42:54.513871",
     "exception": false,
     "start_time": "2021-07-05T10:42:54.451176",
     "status": "completed"
    },
    "tags": []
   },
   "outputs": [
    {
     "name": "stdout",
     "output_type": "stream",
     "text": [
      "(268, 7)\n",
      "(268,)\n"
     ]
    }
   ],
   "source": [
    "print(X_test.shape)\n",
    "print(y_test.shape)"
   ]
  },
  {
   "cell_type": "code",
   "execution_count": 49,
   "id": "secret-wayne",
   "metadata": {
    "execution": {
     "iopub.execute_input": "2021-07-05T10:42:54.635250Z",
     "iopub.status.busy": "2021-07-05T10:42:54.634542Z",
     "iopub.status.idle": "2021-07-05T10:42:54.824466Z",
     "shell.execute_reply": "2021-07-05T10:42:54.824960Z",
     "shell.execute_reply.started": "2021-07-04T10:24:44.319797Z"
    },
    "papermill": {
     "duration": 0.254093,
     "end_time": "2021-07-05T10:42:54.825138",
     "exception": false,
     "start_time": "2021-07-05T10:42:54.571045",
     "status": "completed"
    },
    "tags": []
   },
   "outputs": [],
   "source": [
    "from sklearn.ensemble import GradientBoostingClassifier"
   ]
  },
  {
   "cell_type": "code",
   "execution_count": 50,
   "id": "caroline-shift",
   "metadata": {
    "execution": {
     "iopub.execute_input": "2021-07-05T10:42:54.940294Z",
     "iopub.status.busy": "2021-07-05T10:42:54.939637Z",
     "iopub.status.idle": "2021-07-05T10:42:54.941469Z",
     "shell.execute_reply": "2021-07-05T10:42:54.941899Z",
     "shell.execute_reply.started": "2021-07-04T10:24:44.327929Z"
    },
    "papermill": {
     "duration": 0.061464,
     "end_time": "2021-07-05T10:42:54.942058",
     "exception": false,
     "start_time": "2021-07-05T10:42:54.880594",
     "status": "completed"
    },
    "tags": []
   },
   "outputs": [],
   "source": [
    "model = GradientBoostingClassifier(learning_rate=0.05, n_estimators=200, random_state = 42)"
   ]
  },
  {
   "cell_type": "code",
   "execution_count": 51,
   "id": "desirable-google",
   "metadata": {
    "execution": {
     "iopub.execute_input": "2021-07-05T10:42:55.057008Z",
     "iopub.status.busy": "2021-07-05T10:42:55.056328Z",
     "iopub.status.idle": "2021-07-05T10:42:55.062002Z",
     "shell.execute_reply": "2021-07-05T10:42:55.062558Z",
     "shell.execute_reply.started": "2021-07-04T10:24:44.33698Z"
    },
    "papermill": {
     "duration": 0.065406,
     "end_time": "2021-07-05T10:42:55.062735",
     "exception": false,
     "start_time": "2021-07-05T10:42:54.997329",
     "status": "completed"
    },
    "tags": []
   },
   "outputs": [],
   "source": [
    "def build_model(my_model):\n",
    "    clf = Pipeline(steps = [\n",
    "        ('preprocess', pre_processor),\n",
    "        ('model', my_model)\n",
    "    ])\n",
    "    clf.fit(X_train, y_train)\n",
    "    print(\"Train set score:\", clf.score(X_train, y_train))\n",
    "    print(\"Test set score:\", clf.score(X_test, y_test))\n",
    "    \n",
    "    #Predictions\n",
    "    pred_train = clf.predict(X_train)\n",
    "    pred_test = clf.predict(X_test)\n",
    "    predictions = clf.predict(test)\n",
    "    \n",
    "    #confusion_matrices\n",
    "    plot_confusion_matrix(clf, X_train, y_train)\n",
    "    plt.title('Confusion Matrix Training Dataset')\n",
    "    plot_confusion_matrix(clf, X_test, y_test)\n",
    "    plt.title('Confusion Matrix Testing Dataset')\n",
    "    \n",
    "    return pred_train, pred_test, predictions"
   ]
  },
  {
   "cell_type": "code",
   "execution_count": 52,
   "id": "fatal-sleeve",
   "metadata": {
    "execution": {
     "iopub.execute_input": "2021-07-05T10:42:55.175928Z",
     "iopub.status.busy": "2021-07-05T10:42:55.175378Z",
     "iopub.status.idle": "2021-07-05T10:42:55.747836Z",
     "shell.execute_reply": "2021-07-05T10:42:55.747357Z",
     "shell.execute_reply.started": "2021-07-04T10:24:44.347991Z"
    },
    "papermill": {
     "duration": 0.63061,
     "end_time": "2021-07-05T10:42:55.747979",
     "exception": false,
     "start_time": "2021-07-05T10:42:55.117369",
     "status": "completed"
    },
    "tags": []
   },
   "outputs": [
    {
     "name": "stdout",
     "output_type": "stream",
     "text": [
      "Train set score: 0.9069020866773676\n",
      "Test set score: 0.8208955223880597\n"
     ]
    },
    {
     "data": {
      "image/png": "[encoded data removed]",
      "text/plain": [
       "<Figure size 432x288 with 2 Axes>"
      ]
     },
     "metadata": {
      "needs_background": "light"
     },
     "output_type": "display_data"
    },
    {
     "data": {
      "image/png": "[encoded data removed]",
      "text/plain": [
       "<Figure size 432x288 with 2 Axes>"
      ]
     },
     "metadata": {
      "needs_background": "light"
     },
     "output_type": "display_data"
    }
   ],
   "source": [
    "pred_train, pred_test, predictions = build_model(model)"
   ]
  },
  {
   "cell_type": "code",
   "execution_count": 53,
   "id": "buried-cisco",
   "metadata": {
    "execution": {
     "iopub.execute_input": "2021-07-05T10:42:55.866312Z",
     "iopub.status.busy": "2021-07-05T10:42:55.865730Z",
     "iopub.status.idle": "2021-07-05T10:42:55.878032Z",
     "shell.execute_reply": "2021-07-05T10:42:55.878522Z",
     "shell.execute_reply.started": "2021-07-04T10:24:44.906295Z"
    },
    "papermill": {
     "duration": 0.073606,
     "end_time": "2021-07-05T10:42:55.878695",
     "exception": false,
     "start_time": "2021-07-05T10:42:55.805089",
     "status": "completed"
    },
    "tags": []
   },
   "outputs": [
    {
     "name": "stdout",
     "output_type": "stream",
     "text": [
      "              precision    recall  f1-score   support\n",
      "\n",
      "           0       0.89      0.97      0.93       392\n",
      "           1       0.94      0.80      0.86       231\n",
      "\n",
      "    accuracy                           0.91       623\n",
      "   macro avg       0.92      0.88      0.90       623\n",
      "weighted avg       0.91      0.91      0.91       623\n",
      "\n",
      "              precision    recall  f1-score   support\n",
      "\n",
      "           0       0.80      0.92      0.86       157\n",
      "           1       0.86      0.68      0.76       111\n",
      "\n",
      "    accuracy                           0.82       268\n",
      "   macro avg       0.83      0.80      0.81       268\n",
      "weighted avg       0.83      0.82      0.82       268\n",
      "\n"
     ]
    }
   ],
   "source": [
    "print(classification_report(y_train, pred_train))\n",
    "print(classification_report(y_test, pred_test))"
   ]
  },
  {
   "cell_type": "code",
   "execution_count": 54,
   "id": "geological-topic",
   "metadata": {
    "execution": {
     "iopub.execute_input": "2021-07-05T10:42:55.994908Z",
     "iopub.status.busy": "2021-07-05T10:42:55.994349Z",
     "iopub.status.idle": "2021-07-05T10:42:56.002884Z",
     "shell.execute_reply": "2021-07-05T10:42:56.002418Z",
     "shell.execute_reply.started": "2021-07-04T10:24:44.924794Z"
    },
    "papermill": {
     "duration": 0.067589,
     "end_time": "2021-07-05T10:42:56.003020",
     "exception": false,
     "start_time": "2021-07-05T10:42:55.935431",
     "status": "completed"
    },
    "tags": []
   },
   "outputs": [],
   "source": [
    "output = pd.DataFrame({'PassengerId': Id, 'Survived': predictions})\n",
    "output.to_csv('submission.csv', index = False)"
   ]
  },
  {
   "cell_type": "code",
   "execution_count": 55,
   "id": "optimum-latvia",
   "metadata": {
    "execution": {
     "iopub.execute_input": "2021-07-05T10:42:56.122465Z",
     "iopub.status.busy": "2021-07-05T10:42:56.121486Z",
     "iopub.status.idle": "2021-07-05T10:42:56.132861Z",
     "shell.execute_reply": "2021-07-05T10:42:56.132411Z",
     "shell.execute_reply.started": "2021-07-04T10:24:44.934491Z"
    },
    "papermill": {
     "duration": 0.073183,
     "end_time": "2021-07-05T10:42:56.132995",
     "exception": false,
     "start_time": "2021-07-05T10:42:56.059812",
     "status": "completed"
    },
    "tags": []
   },
   "outputs": [
    {
     "data": {
      "text/html": [
       "<div>\n",
       "<style scoped>\n",
       "    .dataframe tbody tr th:only-of-type {\n",
       "        vertical-align: middle;\n",
       "    }\n",
       "\n",
       "    .dataframe tbody tr th {\n",
       "        vertical-align: top;\n",
       "    }\n",
       "\n",
       "    .dataframe thead th {\n",
       "        text-align: right;\n",
       "    }\n",
       "</style>\n",
       "<table border=\"1\" class=\"dataframe\">\n",
       "  <thead>\n",
       "    <tr style=\"text-align: right;\">\n",
       "      <th></th>\n",
       "      <th>PassengerId</th>\n",
       "      <th>Survived</th>\n",
       "    </tr>\n",
       "  </thead>\n",
       "  <tbody>\n",
       "    <tr>\n",
       "      <th>0</th>\n",
       "      <td>892</td>\n",
       "      <td>0</td>\n",
       "    </tr>\n",
       "    <tr>\n",
       "      <th>1</th>\n",
       "      <td>893</td>\n",
       "      <td>0</td>\n",
       "    </tr>\n",
       "    <tr>\n",
       "      <th>2</th>\n",
       "      <td>894</td>\n",
       "      <td>0</td>\n",
       "    </tr>\n",
       "    <tr>\n",
       "      <th>3</th>\n",
       "      <td>895</td>\n",
       "      <td>0</td>\n",
       "    </tr>\n",
       "    <tr>\n",
       "      <th>4</th>\n",
       "      <td>896</td>\n",
       "      <td>0</td>\n",
       "    </tr>\n",
       "    <tr>\n",
       "      <th>...</th>\n",
       "      <td>...</td>\n",
       "      <td>...</td>\n",
       "    </tr>\n",
       "    <tr>\n",
       "      <th>413</th>\n",
       "      <td>1305</td>\n",
       "      <td>0</td>\n",
       "    </tr>\n",
       "    <tr>\n",
       "      <th>414</th>\n",
       "      <td>1306</td>\n",
       "      <td>1</td>\n",
       "    </tr>\n",
       "    <tr>\n",
       "      <th>415</th>\n",
       "      <td>1307</td>\n",
       "      <td>0</td>\n",
       "    </tr>\n",
       "    <tr>\n",
       "      <th>416</th>\n",
       "      <td>1308</td>\n",
       "      <td>0</td>\n",
       "    </tr>\n",
       "    <tr>\n",
       "      <th>417</th>\n",
       "      <td>1309</td>\n",
       "      <td>0</td>\n",
       "    </tr>\n",
       "  </tbody>\n",
       "</table>\n",
       "<p>418 rows × 2 columns</p>\n",
       "</div>"
      ],
      "text/plain": [
       "     PassengerId  Survived\n",
       "0            892         0\n",
       "1            893         0\n",
       "2            894         0\n",
       "3            895         0\n",
       "4            896         0\n",
       "..           ...       ...\n",
       "413         1305         0\n",
       "414         1306         1\n",
       "415         1307         0\n",
       "416         1308         0\n",
       "417         1309         0\n",
       "\n",
       "[418 rows x 2 columns]"
      ]
     },
     "execution_count": 55,
     "metadata": {},
     "output_type": "execute_result"
    }
   ],
   "source": [
    "sub = pd.read_csv('./submission.csv')\n",
    "sub"
   ]
  },
  {
   "cell_type": "code",
   "execution_count": null,
   "id": "mediterranean-celebration",
   "metadata": {
    "papermill": {
     "duration": 0.057345,
     "end_time": "2021-07-05T10:42:56.247851",
     "exception": false,
     "start_time": "2021-07-05T10:42:56.190506",
     "status": "completed"
    },
    "tags": []
   },
   "outputs": [],
   "source": []
  }
 ],
 "metadata": {
  "kernelspec": {
   "display_name": "Python 3",
   "language": "python",
   "name": "python3"
  },
  "language_info": {
   "codemirror_mode": {
    "name": "ipython",
    "version": 3
   },
   "file_extension": ".py",
   "mimetype": "text/x-python",
   "name": "python",
   "nbconvert_exporter": "python",
   "pygments_lexer": "ipython3",
   "version": "3.7.10"
  },
  "papermill": {
   "default_parameters": {},
   "duration": 20.901849,
   "end_time": "2021-07-05T10:42:57.554189",
   "environment_variables": {},
   "exception": null,
   "input_path": "__notebook__.ipynb",
   "output_path": "__notebook__.ipynb",
   "parameters": {},
   "start_time": "2021-07-05T10:42:36.652340",
   "version": "2.3.3"
  }
 },
 "nbformat": 4,
 "nbformat_minor": 5
}
